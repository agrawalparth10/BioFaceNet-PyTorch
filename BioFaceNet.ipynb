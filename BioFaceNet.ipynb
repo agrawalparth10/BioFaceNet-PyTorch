{
  "nbformat": 4,
  "nbformat_minor": 0,
  "metadata": {
    "colab": {
      "name": "BioFaceNet.ipynb",
      "provenance": [],
      "collapsed_sections": []
    },
    "kernelspec": {
      "name": "python3",
      "display_name": "Python 3"
    },
    "language_info": {
      "name": "python"
    }
  },
  "cells": [
    {
      "cell_type": "markdown",
      "metadata": {
        "id": "6kNfoNpcOE21"
      },
      "source": [
        "## BioFaceNet"
      ]
    },
    {
      "cell_type": "markdown",
      "metadata": {
        "id": "YaVqvpcNOMEh"
      },
      "source": [
        "Author - Parth Agrawal"
      ]
    },
    {
      "cell_type": "code",
      "metadata": {
        "colab": {
          "base_uri": "https://localhost:8080/"
        },
        "id": "YwLEzoTue4Ho",
        "outputId": "505da7dc-a723-49fc-98bc-9ad4952c447e"
      },
      "source": [
        "from google.colab import drive\n",
        "drive.mount(\"/content/drive\")"
      ],
      "execution_count": 1,
      "outputs": [
        {
          "output_type": "stream",
          "text": [
            "Mounted at /content/drive\n"
          ],
          "name": "stdout"
        }
      ]
    },
    {
      "cell_type": "code",
      "metadata": {
        "id": "8a9eGXs3NsLa"
      },
      "source": [
        "import torch \n",
        "import torch.nn as nn\n",
        "from torch.utils.data import DataLoader\n",
        "\n",
        "import tqdm\n",
        "import matplotlib.pyplot as plt \n",
        "from PIL import Image\n",
        "import numpy as np\n",
        "import os \n",
        "import zipfile \n",
        "import gdown"
      ],
      "execution_count": 2,
      "outputs": []
    },
    {
      "cell_type": "code",
      "metadata": {
        "colab": {
          "base_uri": "https://localhost:8080/"
        },
        "id": "X2GlYWbHOTd5",
        "outputId": "96a37cec-bf93-4738-f22f-80020624e699"
      },
      "source": [
        "device = 'cuda' if torch.cuda.is_available() else 'cpu'\n",
        "print(device)"
      ],
      "execution_count": 3,
      "outputs": [
        {
          "output_type": "stream",
          "text": [
            "cpu\n"
          ],
          "name": "stdout"
        }
      ]
    },
    {
      "cell_type": "markdown",
      "metadata": {
        "id": "TiqDcBTLuwU0"
      },
      "source": [
        "### Download Dataset"
      ]
    },
    {
      "cell_type": "code",
      "metadata": {
        "colab": {
          "base_uri": "https://localhost:8080/"
        },
        "id": "sWdUVFiEO5Wd",
        "outputId": "ab582e06-e733-4143-850c-b3f0a7d6e87e"
      },
      "source": [
        "data_root = 'Data/celeba'\n",
        "\n",
        "dataset_folder = f'{data_root}/img_align_celeba'\n",
        "\n",
        "url = 'https://drive.google.com/uc?id=1cNIac61PSA_LqDFYFUeyaQYekYPc75NH'\n",
        "\n",
        "\n",
        "download_path = f'{data_root}/img_celeba'\n",
        "\n",
        "\n",
        "if not os.path.exists(data_root):\n",
        "  os.makedirs(data_root)\n",
        "  os.makedirs(dataset_folder)\n",
        "\n",
        "gdown.download(url, download_path, quiet=False)\n",
        "\n",
        "## Use TQDM\n",
        "with zipfile.ZipFile(download_path, 'r') as ziphandler:\n",
        "  ziphandler.extractall(dataset_folder)"
      ],
      "execution_count": 4,
      "outputs": [
        {
          "output_type": "stream",
          "text": [
            "Downloading...\n",
            "From: https://drive.google.com/uc?id=1cNIac61PSA_LqDFYFUeyaQYekYPc75NH\n",
            "To: /content/Data/celeba/img_celeba\n",
            "1.44GB [00:12, 117MB/s]\n"
          ],
          "name": "stderr"
        }
      ]
    },
    {
      "cell_type": "markdown",
      "metadata": {
        "id": "RSJO2MwfvXyG"
      },
      "source": [
        "## Create Dataset"
      ]
    },
    {
      "cell_type": "code",
      "metadata": {
        "id": "RJfQJVM9vXXl"
      },
      "source": [
        "def load_images(path,limit = 10):\n",
        "  files = os.listdir(path)\n",
        "  images_arr = []\n",
        "  n = len(files)\n",
        "  i = 0 \n",
        "  while(i < limit):\n",
        "    images_arr.append(plt.imread(path + '/' + files[i]) / 255)\n",
        "    i += 1\n",
        "  return np.array(images_arr)"
      ],
      "execution_count": 5,
      "outputs": []
    },
    {
      "cell_type": "code",
      "metadata": {
        "id": "qGAWcb2bv364"
      },
      "source": [
        "PATH = \"/content/Data/celeba/img_align_celeba/img_align_celeba\"\n",
        "data = load_images(PATH)"
      ],
      "execution_count": 6,
      "outputs": []
    },
    {
      "cell_type": "code",
      "metadata": {
        "colab": {
          "base_uri": "https://localhost:8080/",
          "height": 303
        },
        "id": "68r_U1SYzTvz",
        "outputId": "5f0a179e-615a-43ec-e628-92604f1b5e4e"
      },
      "source": [
        "print(f'Size of the Dataset : {data.shape}')\n",
        "plt.imshow(data[0])"
      ],
      "execution_count": 7,
      "outputs": [
        {
          "output_type": "stream",
          "text": [
            "Size of the Dataset : (10, 218, 178, 3)\n"
          ],
          "name": "stdout"
        },
        {
          "output_type": "execute_result",
          "data": {
            "text/plain": [
              "<matplotlib.image.AxesImage at 0x7f270157bd10>"
            ]
          },
          "metadata": {
            "tags": []
          },
          "execution_count": 7
        },
        {
          "output_type": "display_data",
          "data": {
            "image/png": "[encoded data removed]",
            "text/plain": [
              "<Figure size 432x288 with 1 Axes>"
            ]
          },
          "metadata": {
            "tags": [],
            "needs_background": "light"
          }
        }
      ]
    },
    {
      "cell_type": "markdown",
      "metadata": {
        "id": "t5-SijROyS11"
      },
      "source": [
        "## Dataloader"
      ]
    },
    {
      "cell_type": "code",
      "metadata": {
        "id": "dYYjsHbp4aSK"
      },
      "source": [
        "# Change the validation Dataset\n",
        "data_tensor = torch.tensor(data).float().to(device)\n",
        "\n",
        "dataloaders = {\n",
        "    'train': DataLoader(data_tensor, batch_size=32, shuffle=False),\n",
        "    'val': DataLoader(data_tensor, batch_size=32, shuffle=False)\n",
        "}"
      ],
      "execution_count": 8,
      "outputs": []
    },
    {
      "cell_type": "markdown",
      "metadata": {
        "id": "s0C-b8jZ8CEw"
      },
      "source": [
        "## Model"
      ]
    },
    {
      "cell_type": "markdown",
      "metadata": {
        "id": "ojfs2e5X8DMc"
      },
      "source": [
        "### Encoder Architecture"
      ]
    },
    {
      "cell_type": "code",
      "metadata": {
        "id": "rI7P0TNm70fI"
      },
      "source": [
        "class unet(nn.Module):\n",
        "  def __init__(self,in_channels):\n",
        "    super(unet,self).__init__()\n",
        "    self.conv1_down = nn.Conv2d(in_channels,32,(3,3),stride = 1,padding = 1)\n",
        "    self.batchnorm1_down = torch.nn.BatchNorm2d(32)\n",
        "    self.conv2_down = nn.Conv2d(32,64,(3,3),stride = 1,padding = 1)\n",
        "    self.batchnorm2_down = torch.nn.BatchNorm2d(64)\n",
        "    self.conv3_down = nn.Conv2d(64,128,(3,3),stride = 1,padding = 1)\n",
        "    self.batchnorm3_down = torch.nn.BatchNorm2d(128)\n",
        "    self.conv4_down = nn.Conv2d(128,256,(3,3),stride = 1,padding = 1)\n",
        "    self.batchnorm4_down = torch.nn.BatchNorm2d(256)\n",
        "    self.conv5_down = nn.Conv2d(256,512,(3,3),stride = 1,padding = 1)\n",
        "    self.batchnorm5_down = torch.nn.BatchNorm2d(512)\n",
        "    self.relu = nn.ReLU()\n",
        "    self.max_pool = nn.MaxPool2d((2,2),stride = 2)\n",
        "    self.skip_connections = []\n",
        "    \n",
        "    self.upsample_1 = torch.nn.Upsample(size=(27,22))\n",
        "    self.conv1_up = nn.Conv2d(768,256,(3,3),stride = 1,padding = 1)\n",
        "    self.batchnorm1_up = torch.nn.BatchNorm2d(256)\n",
        "    \n",
        "    self.upsample_2 = torch.nn.Upsample(size=(54,44))\n",
        "    self.conv2_up = nn.Conv2d(384,128,(3,3),stride = 1,padding = 1)\n",
        "    self.batchnorm2_up = torch.nn.BatchNorm2d(128)\n",
        "\n",
        "    self.upsample_3 = torch.nn.Upsample(size=(109,89))\n",
        "    self.conv3_up = nn.Conv2d(192,64,(3,3),stride = 1,padding = 1)\n",
        "    self.batchnorm3_up = torch.nn.BatchNorm2d(64)\n",
        "    \n",
        "    self.upsample_4 = torch.nn.Upsample(size=(218,178))\n",
        "    self.conv4_up = nn.Conv2d(96,32,(3,3),stride = 1,padding = 1)\n",
        "    self.batchnorm4_up = torch.nn.BatchNorm2d(32)\n",
        "    \n",
        "    \n",
        "    self.conv5_up = nn.Conv2d(32,1,(3,3),stride = 1,padding = 1)\n",
        "  \n",
        "\n",
        "\n",
        "  def forward(self,x):\n",
        "    print(x.shape)\n",
        "    x = x.permute(0,3,1,2)\n",
        "    print(x.shape)\n",
        "    x = self.conv1_down(x)\n",
        "    x = self.batchnorm1_down(x)\n",
        "    x = self.relu(x)\n",
        "    self.skip_connections.append(x)\n",
        "    x = self.max_pool(x)\n",
        "    print(x.shape)\n",
        "    x = self.conv2_down(x)\n",
        "    x = self.batchnorm2_down(x)\n",
        "    x = self.relu(x)\n",
        "    self.skip_connections.append(x)\n",
        "    x = self.max_pool(x)\n",
        "    print(x.shape)\n",
        "    x = self.conv3_down(x)\n",
        "    x = self.batchnorm3_down(x)\n",
        "    x = self.relu(x)\n",
        "    self.skip_connections.append(x)\n",
        "    x = self.max_pool(x)\n",
        "    print(x.shape)\n",
        "    x = self.conv4_down(x)\n",
        "    x = self.batchnorm4_down(x)\n",
        "    x = self.relu(x)\n",
        "    self.skip_connections.append(x)\n",
        "    x = self.max_pool(x)\n",
        "    print(x.shape)\n",
        "    x = self.conv5_down(x)\n",
        "    x = self.batchnorm5_down(x)\n",
        "    x = self.relu(x)\n",
        "    print(x.shape)\n",
        "\n",
        "    print(\"----skip-----\")\n",
        "\n",
        "    print(len(self.skip_connections))\n",
        "    for i in range(len(self.skip_connections)):\n",
        "      print(self.skip_connections[i].shape)\n",
        "\n",
        "    print(\"___ UPS ---\")\n",
        "\n",
        "    print(x.shape)\n",
        "    x = self.upsample_1(x)\n",
        "    print(x.shape,self.skip_connections[-1].shape)\n",
        "    x = torch.cat((x,self.skip_connections[-1]),1)\n",
        "    print(x.shape)\n",
        "    x = self.conv1_up(x)\n",
        "    x = self.batchnorm1_up(x)\n",
        "    x = self.relu(x)\n",
        "    print(x.shape)\n",
        "\n",
        "    x = self.upsample_2(x)\n",
        "    x = torch.cat((x,self.skip_connections[-2]),1)\n",
        "    print(x.shape)\n",
        "    x = self.conv2_up(x)\n",
        "    x = self.batchnorm2_up(x)\n",
        "    x = self.relu(x)\n",
        "    print(x.shape)\n",
        "\n",
        "    x = self.upsample_3(x)\n",
        "    x = torch.cat((x,self.skip_connections[-3]),1)\n",
        "    print(x.shape)\n",
        "    x = self.conv3_up(x)\n",
        "    x = self.batchnorm3_up(x)\n",
        "    x = self.relu(x)\n",
        "    print(x.shape)\n",
        "\n",
        "    x = self.upsample_4(x)\n",
        "    x = torch.cat((x,self.skip_connections[-4]),1)\n",
        "    print(x.shape)\n",
        "    x = self.conv4_up(x)\n",
        "    x = self.batchnorm4_up(x)\n",
        "    x = self.relu(x)\n",
        "    print(x.shape)\n",
        "\n",
        "    x = self.conv5_up(x)\n",
        "    print(x.shape)\n",
        "\n",
        "    return x"
      ],
      "execution_count": 30,
      "outputs": []
    },
    {
      "cell_type": "markdown",
      "metadata": {
        "id": "Eaf3ZIzv6WPf"
      },
      "source": [
        "### Train"
      ]
    },
    {
      "cell_type": "code",
      "metadata": {
        "id": "cZwKC1Ms6XAc"
      },
      "source": [
        "## Still need to make modifications\n",
        "\n",
        "def train(model,optimizer,epochs,loss_fn):\n",
        "  best_model = None\n",
        "\n",
        "  for epoch in range(epochs):\n",
        "    print('Epoch {}/{}'.format(epoch, epochs - 1))\n",
        "    print('-' * 10)\n",
        "\n",
        "    for phase in ['train','val']:\n",
        "      train_loss = 0\n",
        "      batch_idx = 0\n",
        "\n",
        "      if phase == 'train':\n",
        "        model.train()\n",
        "      else:\n",
        "        model.eval()\n",
        "            \n",
        "      for X in dataloaders[phase]:\n",
        "        inputs = X.to(device)\n",
        "        batch_idx += 1\n",
        "\n",
        "        optimizer.zero_grad()\n",
        "\n",
        "        with torch.set_grad_enabled(phase == 'train'):\n",
        "          outputs = model(inputs)\n",
        "          loss = loss_fn(outputs,outputs) # Change the loss function \n",
        "\n",
        "          if phase == 'train':\n",
        "            loss.backward()\n",
        "            optimizer.step()\n",
        "\n",
        "          train_loss += loss\n",
        "\n",
        "  return model,train_loss"
      ],
      "execution_count": 31,
      "outputs": []
    },
    {
      "cell_type": "code",
      "metadata": {
        "colab": {
          "base_uri": "https://localhost:8080/"
        },
        "id": "FCOK2eiOAP20",
        "outputId": "721dad42-fb57-4c46-c0c9-8829300336f0"
      },
      "source": [
        "model = unet(in_channels=3).to(device)\n",
        "for X in dataloaders['train']:\n",
        "  model(X)\n",
        "  break"
      ],
      "execution_count": 32,
      "outputs": [
        {
          "output_type": "stream",
          "text": [
            "torch.Size([10, 218, 178, 3])\n",
            "torch.Size([10, 3, 218, 178])\n",
            "torch.Size([10, 32, 109, 89])\n",
            "torch.Size([10, 64, 54, 44])\n",
            "torch.Size([10, 128, 27, 22])\n",
            "torch.Size([10, 256, 13, 11])\n",
            "torch.Size([10, 512, 13, 11])\n",
            "----skip-----\n",
            "4\n",
            "torch.Size([10, 32, 218, 178])\n",
            "torch.Size([10, 64, 109, 89])\n",
            "torch.Size([10, 128, 54, 44])\n",
            "torch.Size([10, 256, 27, 22])\n",
            "___ UPS ---\n",
            "torch.Size([10, 512, 13, 11])\n",
            "torch.Size([10, 512, 27, 22]) torch.Size([10, 256, 27, 22])\n",
            "torch.Size([10, 768, 27, 22])\n",
            "torch.Size([10, 256, 27, 22])\n",
            "torch.Size([10, 384, 54, 44])\n",
            "torch.Size([10, 128, 54, 44])\n",
            "torch.Size([10, 192, 109, 89])\n",
            "torch.Size([10, 64, 109, 89])\n",
            "torch.Size([10, 96, 218, 178])\n",
            "torch.Size([10, 32, 218, 178])\n",
            "torch.Size([10, 1, 218, 178])\n"
          ],
          "name": "stdout"
        }
      ]
    },
    {
      "cell_type": "code",
      "metadata": {
        "id": "rfRGj0BZAtLg"
      },
      "source": [
        ""
      ],
      "execution_count": 32,
      "outputs": []
    }
  ]
}