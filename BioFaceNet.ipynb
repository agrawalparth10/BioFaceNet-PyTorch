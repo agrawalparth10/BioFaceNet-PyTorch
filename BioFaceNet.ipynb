{
  "nbformat": 4,
  "nbformat_minor": 0,
  "metadata": {
    "colab": {
      "name": "BioFaceNet.ipynb",
      "provenance": [],
      "collapsed_sections": [],
      "toc_visible": true
    },
    "kernelspec": {
      "name": "python3",
      "display_name": "Python 3"
    },
    "language_info": {
      "name": "python"
    }
  },
  "cells": [
    {
      "cell_type": "markdown",
      "metadata": {
        "id": "6kNfoNpcOE21"
      },
      "source": [
        "## BioFaceNet"
      ]
    },
    {
      "cell_type": "markdown",
      "metadata": {
        "id": "YaVqvpcNOMEh"
      },
      "source": [
        "Author - Parth Agrawal"
      ]
    },
    {
      "cell_type": "code",
      "metadata": {
        "colab": {
          "base_uri": "https://localhost:8080/"
        },
        "id": "YwLEzoTue4Ho",
        "outputId": "535992f7-84db-428d-fd78-383f9ff8e20c"
      },
      "source": [
        "from google.colab import drive\n",
        "drive.mount(\"/content/drive\")"
      ],
      "execution_count": 213,
      "outputs": [
        {
          "output_type": "stream",
          "text": [
            "Drive already mounted at /content/drive; to attempt to forcibly remount, call drive.mount(\"/content/drive\", force_remount=True).\n"
          ],
          "name": "stdout"
        }
      ]
    },
    {
      "cell_type": "code",
      "metadata": {
        "id": "8a9eGXs3NsLa"
      },
      "source": [
        "import torch \n",
        "import torch.nn as nn\n",
        "from torch.utils.data import DataLoader\n",
        "\n",
        "import tqdm\n",
        "import matplotlib.pyplot as plt \n",
        "from PIL import Image\n",
        "import numpy as np\n",
        "import os \n",
        "import zipfile \n",
        "import gdown"
      ],
      "execution_count": 214,
      "outputs": []
    },
    {
      "cell_type": "code",
      "metadata": {
        "colab": {
          "base_uri": "https://localhost:8080/"
        },
        "id": "X2GlYWbHOTd5",
        "outputId": "d0d15965-aafb-4a6d-89d6-fdd441ec09a3"
      },
      "source": [
        "device = 'cuda' if torch.cuda.is_available() else 'cpu'\n",
        "print(device)"
      ],
      "execution_count": 215,
      "outputs": [
        {
          "output_type": "stream",
          "text": [
            "cpu\n"
          ],
          "name": "stdout"
        }
      ]
    },
    {
      "cell_type": "markdown",
      "metadata": {
        "id": "TiqDcBTLuwU0"
      },
      "source": [
        "### Download Dataset"
      ]
    },
    {
      "cell_type": "code",
      "metadata": {
        "colab": {
          "base_uri": "https://localhost:8080/"
        },
        "id": "sWdUVFiEO5Wd",
        "outputId": "6946f022-92a7-4066-8a73-50cf903fa79d"
      },
      "source": [
        "data_root = 'Data/celeba'\n",
        "\n",
        "dataset_folder = f'{data_root}/img_align_celeba'\n",
        "\n",
        "url = 'https://drive.google.com/uc?id=1cNIac61PSA_LqDFYFUeyaQYekYPc75NH'\n",
        "\n",
        "\n",
        "download_path = f'{data_root}/img_celeba'\n",
        "\n",
        "\n",
        "if not os.path.exists(data_root):\n",
        "  os.makedirs(data_root)\n",
        "  os.makedirs(dataset_folder)\n",
        "\n",
        "gdown.download(url, download_path, quiet=False)\n",
        "\n",
        "## Use TQDM\n",
        "with zipfile.ZipFile(download_path, 'r') as ziphandler:\n",
        "  ziphandler.extractall(dataset_folder)"
      ],
      "execution_count": 216,
      "outputs": [
        {
          "output_type": "stream",
          "text": [
            "Downloading...\n",
            "From: https://drive.google.com/uc?id=1cNIac61PSA_LqDFYFUeyaQYekYPc75NH\n",
            "To: /content/Data/celeba/img_celeba\n",
            "1.44GB [00:17, 83.4MB/s]\n"
          ],
          "name": "stderr"
        }
      ]
    },
    {
      "cell_type": "markdown",
      "metadata": {
        "id": "RSJO2MwfvXyG"
      },
      "source": [
        "## Create Dataset"
      ]
    },
    {
      "cell_type": "code",
      "metadata": {
        "id": "RJfQJVM9vXXl"
      },
      "source": [
        "def load_images(path,limit = 128):\n",
        "  files = os.listdir(path)\n",
        "  images_arr = []\n",
        "  n = len(files)\n",
        "  i = 0 \n",
        "  while(i < limit):\n",
        "    images_arr.append(plt.imread(path + '/' + files[i]) / 255)\n",
        "    i += 1\n",
        "  return np.array(images_arr)"
      ],
      "execution_count": 217,
      "outputs": []
    },
    {
      "cell_type": "code",
      "metadata": {
        "id": "qGAWcb2bv364"
      },
      "source": [
        "PATH = \"/content/Data/celeba/img_align_celeba/img_align_celeba\"\n",
        "data = load_images(PATH)"
      ],
      "execution_count": 218,
      "outputs": []
    },
    {
      "cell_type": "code",
      "metadata": {
        "id": "68r_U1SYzTvz",
        "colab": {
          "base_uri": "https://localhost:8080/",
          "height": 303
        },
        "outputId": "30bc70a8-4d39-477a-e946-a2c967832b3f"
      },
      "source": [
        "print(f'Size of the Dataset : {data.shape}')\n",
        "plt.imshow(data[0])"
      ],
      "execution_count": 219,
      "outputs": [
        {
          "output_type": "stream",
          "text": [
            "Size of the Dataset : (128, 218, 178, 3)\n"
          ],
          "name": "stdout"
        },
        {
          "output_type": "execute_result",
          "data": {
            "text/plain": [
              "<matplotlib.image.AxesImage at 0x7fc3a750c9d0>"
            ]
          },
          "metadata": {
            "tags": []
          },
          "execution_count": 219
        },
        {
          "output_type": "display_data",
          "data": {
            "image/png": "[encoded data removed]",
            "text/plain": [
              "<Figure size 432x288 with 1 Axes>"
            ]
          },
          "metadata": {
            "tags": [],
            "needs_background": "light"
          }
        }
      ]
    },
    {
      "cell_type": "markdown",
      "metadata": {
        "id": "t5-SijROyS11"
      },
      "source": [
        "## Dataloader"
      ]
    },
    {
      "cell_type": "code",
      "metadata": {
        "id": "dYYjsHbp4aSK"
      },
      "source": [
        "# Change the validation Dataset\n",
        "data_tensor = torch.tensor(data).float().to(device)\n",
        "batch_size = 4\n",
        "dataloaders = {\n",
        "    'train': DataLoader(data_tensor, batch_size=batch_size, shuffle=False),\n",
        "    'val': DataLoader(data_tensor, batch_size=batch_size, shuffle=False)\n",
        "}"
      ],
      "execution_count": 220,
      "outputs": []
    },
    {
      "cell_type": "markdown",
      "metadata": {
        "id": "s0C-b8jZ8CEw"
      },
      "source": [
        "## Model"
      ]
    },
    {
      "cell_type": "markdown",
      "metadata": {
        "id": "t-i8a62qH6lC"
      },
      "source": [
        "### Scaling"
      ]
    },
    {
      "cell_type": "code",
      "metadata": {
        "id": "FuJfR-_KBTSj"
      },
      "source": [
        "def scaling(lighting,b,fmel,fblood,shading,specmask,b_size):\n",
        "\n",
        "  softmax = nn.Softmax(dim = 1)\n",
        "  sigmoid = nn.Sigmoid()\n",
        "\n",
        "  lighting_weight = softmax(lighting[:,:-1])\n",
        "  weightA = lighting_weight[:,0]\n",
        "  weightD = lighting_weight[:,1]\n",
        "  Fweights = lighting_weight[:,2:]\n",
        "  CCT = lighting[:,14]\n",
        "  CCT = ((22 - 1) / (1 + torch.exp(-CCT))) + 1\n",
        "\n",
        "  b = 6 * sigmoid(b) - 3\n",
        "  b = b/3\n",
        "\n",
        "  fmel = (sigmoid(fmel)*2) - 1\n",
        "  fblood = (sigmoid(fblood)*2) - 1\n",
        "  shading = torch.exp(shading)\n",
        "  specmask = torch.exp(specmask)\n",
        "\n",
        "  return weightA,weightD,CCT,Fweights,b,fmel,fblood,shading,specmask"
      ],
      "execution_count": 327,
      "outputs": []
    },
    {
      "cell_type": "markdown",
      "metadata": {
        "id": "pdZeBF-SH3E3"
      },
      "source": [
        "### Illumination Model"
      ]
    },
    {
      "cell_type": "code",
      "metadata": {
        "id": "Xht5CgR5Iijv"
      },
      "source": [
        "illumA = torch.tensor(np.load('illumA.npy'))\n",
        "illumDmeasured = torch.tensor(np.load('illumDmeasured.npy'))\n",
        "illF = torch.tensor(np.load('illF.npy'))\n",
        "illumA = illumA / torch.sum(illumA,dim = 2)\n",
        "illF = illF / torch.sum(illF,dim=2,keepdims = True)\n",
        "illumDmeasured = illumDmeasured / torch.sum(illumDmeasured,dim = 1,keepdims = True)\n",
        "\n",
        "illumA = illumA.view(1,1,1,33)\n",
        "illumA = torch.cat([illumA] * batch_size,dim = 0)\n",
        "\n",
        "illumDmeasured = illumDmeasured.view(1,1,22,33)\n",
        "illumDmeasured = illumDmeasured.permute(0,1,3,2)\n",
        "illumDmeasured = torch.cat([illumDmeasured] * batch_size,dim = 0)\n",
        "\n",
        "illF = illF.view(1,1,33,12)\n",
        "illF = torch.cat([illF] * batch_size,dim = 0)"
      ],
      "execution_count": 328,
      "outputs": []
    },
    {
      "cell_type": "code",
      "metadata": {
        "id": "prZiS3PHIllt"
      },
      "source": [
        "def illuminationModel(weightA,weightD,Fweights,CCT,illumA,illumDNorm,illumFNorm):\n",
        "\n",
        "  weightA = weightA.view(weightA.shape[0],1,1,1)\n",
        "  weightD = weightD.view(weightD.shape[0],1,1,1)\n",
        "  Fweights = Fweights.view(Fweights.shape[0],1,1,12)\n",
        "  CCT = CCT.view(CCT.shape[0],1,1,1)\n",
        "\n",
        "  illumA = illumA * weightA\n",
        "  illD = illumDNorm / CCT\n",
        "  illD = torch.sum(illD,dim = 3, keepdims = True)\n",
        "  \n",
        "  illD = illD * weightD\n",
        "  illF = torch.sum(illumFNorm*Fweights,dim = 3,keepdims = True)\n",
        "\n",
        "  illumA = illumA.view(illumA.shape[0],1,33,1)\n",
        "  e = (illumA + illD + illF)\n",
        "  e = e /torch.sum(e,dim=2,keepdims = True)\n",
        "  e = e.permute(0,2,1,3)\n",
        "  return e "
      ],
      "execution_count": 329,
      "outputs": []
    },
    {
      "cell_type": "markdown",
      "metadata": {
        "id": "_vQpkZhcb40v"
      },
      "source": [
        "## Camera Model"
      ]
    },
    {
      "cell_type": "code",
      "metadata": {
        "id": "OGyQodgAkQEy"
      },
      "source": [
        "from sklearn.decomposition import PCA\n",
        "rgbCMF = np.load('rgbCMF.npy')\n",
        "rgbCMF.shape\n",
        "wavelength = 33"
      ],
      "execution_count": 330,
      "outputs": []
    },
    {
      "cell_type": "code",
      "metadata": {
        "id": "WrYFivUsADXF"
      },
      "source": [
        " def CameraSensitivityPCA(cmf):\n",
        "  X = np.zeros((99,28))\n",
        "  Y = np.zeros((99,28))\n",
        "  redS = cmf[0]\n",
        "  greenS = cmf[1]\n",
        "  blueS = cmf[2]\n",
        "\n",
        "  Y[:33,:] = redS/np.sum(redS,axis = 1,keepdims=True)\n",
        "  Y[33:66,:] = greenS/np.sum(greenS,axis = 1,keepdims=True)\n",
        "  Y[66:,:] = blueS/np.sum(blueS,axis = 1,keepdims=True)\n",
        "\n",
        "  pca = PCA(n_components = 2)\n",
        "  out = pca.fit(Y.T)\n",
        "  return out.components_,out.mean_\n"
      ],
      "execution_count": 331,
      "outputs": []
    },
    {
      "cell_type": "code",
      "metadata": {
        "id": "UpTuoPZ3WIsO"
      },
      "source": [
        "def camera_model(mu,PC,b,wavelength):\n",
        "  relu = torch.nn.ReLU()\n",
        "  S = b @ PC + mu\n",
        "  S = relu(S)\n",
        "  Sr = S[:,:wavelength]\n",
        "  Sg = S[:,wavelength:2* wavelength]\n",
        "  Sb = S[:,2*wavelength:]\n",
        "  Sr = Sr.view(Sr.shape[0],Sr.shape[1],1,1)\n",
        "  Sg = Sg.view(Sg.shape[0],Sg.shape[1],1,1)\n",
        "  Sb = Sb.view(Sb.shape[0],Sb.shape[1],1,1)\n",
        "  return Sr,Sg,Sb"
      ],
      "execution_count": 332,
      "outputs": []
    },
    {
      "cell_type": "markdown",
      "metadata": {
        "id": "RnKiOIfiYsPc"
      },
      "source": [
        "### Compute Lightcolor"
      ]
    },
    {
      "cell_type": "code",
      "metadata": {
        "id": "cylJoUfSYvRt"
      },
      "source": [
        "def computelightcolor(e,Sr,Sg,Sb):\n",
        "  s1 = torch.sum(Sr * e,dim = 1,keepdims = True)\n",
        "  s2 = torch.sum(Sg * e,dim = 1,keepdims = True)\n",
        "  s3 = torch.sum(Sb * e,dim = 1,keepdims = True)\n",
        "  lightcolor = torch.cat((s1,s2,s3),dim = 1)\n",
        "  return lightcolor"
      ],
      "execution_count": 333,
      "outputs": []
    },
    {
      "cell_type": "markdown",
      "metadata": {
        "id": "cw577zr5Xq5D"
      },
      "source": [
        "### Compute Specularities"
      ]
    },
    {
      "cell_type": "code",
      "metadata": {
        "id": "JhouTwYfP2rz"
      },
      "source": [
        "def specularities(specmask,lightcolor):\n",
        "  spec = specmask * lightcolor\n",
        "  spec = torch.sum(spec,dim=1,keepdims = True)\n",
        "  return spec"
      ],
      "execution_count": 334,
      "outputs": []
    },
    {
      "cell_type": "markdown",
      "metadata": {
        "id": "iVYTwXVsbcHj"
      },
      "source": [
        "### BiotoSpectralRef"
      ]
    },
    {
      "cell_type": "code",
      "metadata": {
        "id": "biY8TP4sYvSv",
        "colab": {
          "base_uri": "https://localhost:8080/"
        },
        "outputId": "da23e80c-bba4-46f7-a2e1-6a576cd3868a"
      },
      "source": [
        "Newskincolour = torch.tensor(np.load('Newskincolour.npy'))\n",
        "Newskincolour = Newskincolour.view(1,Newskincolour.shape[0],Newskincolour.shape[1],Newskincolour.shape[2])\n",
        "Newskincolour = Newskincolour.permute(0,3,1,2)\n",
        "Newskincolour = torch.cat(batch_size*[Newskincolour],0)\n",
        "print(Newskincolour.shape)\n",
        "print(fmel.shape)\n",
        "print(fblood.shape)"
      ],
      "execution_count": 335,
      "outputs": [
        {
          "output_type": "stream",
          "text": [
            "torch.Size([4, 33, 256, 256])\n",
            "torch.Size([4, 218, 178])\n",
            "torch.Size([4, 218, 178])\n"
          ],
          "name": "stdout"
        }
      ]
    },
    {
      "cell_type": "code",
      "metadata": {
        "id": "KmQn37QfmzDn"
      },
      "source": [
        "def biotoSpecref(fmel,fblood,Newskincolor):\n",
        "  fmel = fmel.view((fmel.shape[0],fmel.shape[1],fmel.shape[2],1))\n",
        "  fblood = fblood.view((fblood.shape[0],fblood.shape[1],fblood.shape[2],1))\n",
        "  grid = torch.cat((fmel,fblood),3)\n",
        "  R_total = torch.nn.functional.grid_sample(Newskincolor,grid, mode='bilinear')\n",
        "  return R_total"
      ],
      "execution_count": 336,
      "outputs": []
    },
    {
      "cell_type": "markdown",
      "metadata": {
        "id": "fyuK_Nm0l-iW"
      },
      "source": [
        "### Image Formation"
      ]
    },
    {
      "cell_type": "code",
      "metadata": {
        "id": "c6jfiquvmDCS"
      },
      "source": [
        "def ImageFormation(R_total,Sr,Sg,Sb,e,specular,shading):\n",
        "\n",
        "  shading = shading.view(shading.shape[0],1,shading.shape[1],shading.shape[2])\n",
        "\n",
        "  spectraRef = R_total * e\n",
        "  rChannel = torch.sum(spectraRef * Sr,axis = 1,keepdims= True)\n",
        "  gChannel = torch.sum(spectraRef * Sg,axis = 1,keepdims = True)\n",
        "  bChannel = torch.sum(spectraRef * Sb,axis = 1,keepdims = True)\n",
        "\n",
        "  diffuseAldebo = torch.cat((rChannel,gChannel,bChannel), axis = 1)\n",
        "  ShadedDiffuse = diffuseAldebo * shading\n",
        "  rawApperance = ShadedDiffuse + specular\n",
        "\n",
        "  return rawApperance, diffuseAldebo"
      ],
      "execution_count": 337,
      "outputs": []
    },
    {
      "cell_type": "markdown",
      "metadata": {
        "id": "1WophbSyozYA"
      },
      "source": [
        "### White Balance"
      ]
    },
    {
      "cell_type": "code",
      "metadata": {
        "id": "RtB9aAzjbY_i"
      },
      "source": [
        "def white_balance(rawAppearance,lightcolor):\n",
        "  wbalanced = rawAppearance / lightcolor\n",
        "  return wbalanced"
      ],
      "execution_count": 338,
      "outputs": []
    },
    {
      "cell_type": "markdown",
      "metadata": {
        "id": "hdAoB5o6k3ab"
      },
      "source": [
        "### T Matrix"
      ]
    },
    {
      "cell_type": "code",
      "metadata": {
        "id": "OO8DOBL9k2vq"
      },
      "source": [
        "def T_matrix(Tmatrix,b):\n",
        "  b_grid = b.view(b.shape[0],1,1,b.shape[1])\n",
        "  Tmatrix = Tmatrix.permute(0,3,1,2)\n",
        "  T_RAW2XYZ = torch.nn.functional.grid_sample(Tmatrix,b_grid, mode='bilinear')\n",
        "  return T_RAW2XYZ"
      ],
      "execution_count": 339,
      "outputs": []
    },
    {
      "cell_type": "markdown",
      "metadata": {
        "id": "dDc1n6tryVFy"
      },
      "source": [
        "### Raw to RGB"
      ]
    },
    {
      "cell_type": "code",
      "metadata": {
        "id": "ThaVXUp2qenu"
      },
      "source": [
        "def rawtorgb(wb,T_raw2xyz):\n",
        "  Ix = wb[:,0,:,:] * T_raw2xyz[:,0] + wb[:,1,:,:] * T_raw2xyz[:,3] + wb[:,2,:,:] * T_raw2xyz[:,6]\n",
        "  Iy = wb[:,0,:,:] * T_raw2xyz[:,1] + wb[:,1,:,:] * T_raw2xyz[:,4] + wb[:,2,:,:] * T_raw2xyz[:,7]\n",
        "  Iz = wb[:,0,:,:] * T_raw2xyz[:,2] + wb[:,1,:,:] * T_raw2xyz[:,5] + wb[:,2,:,:] * T_raw2xyz[:,8]\n",
        "\n",
        "  print(Ix.shape)\n",
        "  print(Iy.shape)\n",
        "  print(Iz.shape)\n",
        "\n",
        "  Ix = Ix.view((-1,1,Ix.shape[1],Ix.shape[2]))\n",
        "  Iy = Iy.view((-1,1,Iy.shape[1],Iy.shape[2]))\n",
        "  Iz = Iz.view((-1,1,Iz.shape[1],Iz.shape[2]))\n",
        "\n",
        "  print(Ix.shape)\n",
        "  print(Iy.shape)\n",
        "  print(Iz.shape)\n",
        "\n",
        "  Ixyz = torch.cat((Ix,Iy,Iz),dim = 1)\n",
        "  Txyzrgb = torch.tensor([3.2406, -1.5372, -0.4986,-0.9689, 1.8758, 0.0415,0.0557, -0.2040, 1.057])\n",
        "\n",
        "  R = Txyzrgb[0] * Ixyz[:,0,:,:] + Txyzrgb[3] * Ixyz[:,1,:,:] + Txyzrgb[6] * Ixyz[:,2,:,:]\n",
        "  G = Txyzrgb[1] * Ixyz[:,0,:,:] + Txyzrgb[4] * Ixyz[:,1,:,:] + Txyzrgb[7] * Ixyz[:,2,:,:]\n",
        "  B = Txyzrgb[2] * Ixyz[:,0,:,:] + Txyzrgb[5] * Ixyz[:,1,:,:] + Txyzrgb[8] * Ixyz[:,2,:,:]\n",
        "  \n",
        "  print(R.shape)\n",
        "  print(G.shape)\n",
        "  print(B.shape)\n",
        "\n",
        "  R = R.view((-1,1,R.shape[1],R.shape[2]))\n",
        "  G = G.view((-1,1,G.shape[1],G.shape[2]))\n",
        "  B = B.view((-1,1,B.shape[1],B.shape[2]))\n",
        "\n",
        "\n",
        "  sRGBim = torch.cat((R,G,B),dim = 1)\n",
        "\n",
        "  relu = nn.ReLU()\n",
        "  sRGBim = relu(sRGBim)\n",
        "  return sRGBim"
      ],
      "execution_count": 340,
      "outputs": []
    },
    {
      "cell_type": "markdown",
      "metadata": {
        "id": "ojfs2e5X8DMc"
      },
      "source": [
        "### Encoder Architecture"
      ]
    },
    {
      "cell_type": "code",
      "metadata": {
        "id": "rI7P0TNm70fI"
      },
      "source": [
        "class encoder(nn.Module):\n",
        "  def __init__(self,in_channels):\n",
        "    super(encoder,self).__init__()\n",
        "\n",
        "    self.conv1_down = nn.Conv2d(in_channels,32,(3,3),stride = 1,padding = 1)\n",
        "    self.batchnorm1_down = torch.nn.BatchNorm2d(32)\n",
        "    self.conv2_down = nn.Conv2d(32,64,(3,3),stride = 1,padding = 1)\n",
        "    self.batchnorm2_down = torch.nn.BatchNorm2d(64)\n",
        "    self.conv3_down = nn.Conv2d(64,128,(3,3),stride = 1,padding = 1)\n",
        "    self.batchnorm3_down = torch.nn.BatchNorm2d(128)\n",
        "    self.conv4_down = nn.Conv2d(128,256,(3,3),stride = 1,padding = 1)\n",
        "    self.batchnorm4_down = torch.nn.BatchNorm2d(256)\n",
        "    self.conv5_down = nn.Conv2d(256,512,(3,3),stride = 1,padding = 1)\n",
        "    self.batchnorm5_down = torch.nn.BatchNorm2d(512)\n",
        "    self.relu = nn.ReLU()\n",
        "    self.max_pool = nn.MaxPool2d((2,2),stride = 2)\n",
        "    self.skip_connections = []\n",
        "    \n",
        "\n",
        "  def forward(self,x):\n",
        "    x = x.permute(0,3,1,2)\n",
        "    x = self.conv1_down(x)\n",
        "    x = self.batchnorm1_down(x)\n",
        "    x = self.relu(x)\n",
        "    self.skip_connections.append(x)\n",
        "    x = self.max_pool(x)\n",
        "    x = self.conv2_down(x)\n",
        "    x = self.batchnorm2_down(x)\n",
        "    x = self.relu(x)\n",
        "    self.skip_connections.append(x)\n",
        "    x = self.max_pool(x)\n",
        "    x = self.conv3_down(x)\n",
        "    x = self.batchnorm3_down(x)\n",
        "    x = self.relu(x)\n",
        "    self.skip_connections.append(x)\n",
        "    x = self.max_pool(x)\n",
        "    x = self.conv4_down(x)\n",
        "    x = self.batchnorm4_down(x)\n",
        "    x = self.relu(x)\n",
        "    self.skip_connections.append(x)\n",
        "    x = self.max_pool(x)\n",
        "    x = self.conv5_down(x)\n",
        "    x = self.batchnorm5_down(x)\n",
        "    x = self.relu(x)\n",
        "\n",
        "\n",
        "    return [x,self.skip_connections]\n"
      ],
      "execution_count": 341,
      "outputs": []
    },
    {
      "cell_type": "code",
      "metadata": {
        "id": "JFIocXor7O8S"
      },
      "source": [
        "class decoder(nn.Module):\n",
        "  def __init__(self):\n",
        "    super(decoder,self).__init__()\n",
        "    self.upsample_1 = torch.nn.Upsample(size=(27,22))\n",
        "    self.conv1_up = nn.Conv2d(768,256,(3,3),stride = 1,padding = 1)\n",
        "    self.batchnorm1_up = torch.nn.BatchNorm2d(256)\n",
        "\n",
        "    self.upsample_2 = torch.nn.Upsample(size=(54,44))\n",
        "    self.conv2_up = nn.Conv2d(384,128,(3,3),stride = 1,padding = 1)\n",
        "    self.batchnorm2_up = torch.nn.BatchNorm2d(128)\n",
        "\n",
        "    self.upsample_3 = torch.nn.Upsample(size=(109,89))\n",
        "    self.conv3_up = nn.Conv2d(192,64,(3,3),stride = 1,padding = 1)\n",
        "    self.batchnorm3_up = torch.nn.BatchNorm2d(64)\n",
        "    \n",
        "    self.upsample_4 = torch.nn.Upsample(size=(218,178))\n",
        "    self.conv4_up = nn.Conv2d(96,32,(3,3),stride = 1,padding = 1)\n",
        "    self.batchnorm4_up = torch.nn.BatchNorm2d(32)\n",
        "    \n",
        "    self.conv5_up = nn.Conv2d(32,1,(3,3),stride = 1,padding = 1)\n",
        "    self.relu = nn.ReLU()\n",
        "  \n",
        "  def forward(self,latent,skip_connections):\n",
        "\n",
        "    self.skip_connections = skip_connections\n",
        "    x = self.upsample_1(latent)\n",
        "    x = torch.cat((x,self.skip_connections[-1]),1)\n",
        "    x = self.conv1_up(x)\n",
        "    x = self.batchnorm1_up(x)\n",
        "    x = self.relu(x)\n",
        "\n",
        "    x = self.upsample_2(x)\n",
        "    x = torch.cat((x,self.skip_connections[-2]),1)\n",
        "    x = self.conv2_up(x)\n",
        "    x = self.batchnorm2_up(x)\n",
        "    x = self.relu(x)\n",
        "\n",
        "    x = self.upsample_3(x)\n",
        "    x = torch.cat((x,self.skip_connections[-3]),1)\n",
        "    x = self.conv3_up(x)\n",
        "    x = self.batchnorm3_up(x)\n",
        "    x = self.relu(x)\n",
        "\n",
        "\n",
        "    x = self.upsample_4(x)\n",
        "    x = torch.cat((x,self.skip_connections[-4]),1)\n",
        "    x = self.conv4_up(x)\n",
        "    x = self.batchnorm4_up(x)\n",
        "    x = self.relu(x)\n",
        "    x = self.conv5_up(x)\n",
        "\n",
        "    return x\n"
      ],
      "execution_count": 342,
      "outputs": []
    },
    {
      "cell_type": "code",
      "metadata": {
        "id": "rpr1Q9-N_msg"
      },
      "source": [
        "class fc(nn.Module):\n",
        "  def __init__(self,lightvec_size,b_size):\n",
        "    super(fc,self).__init__()\n",
        "\n",
        "    self.lightvec_size = lightvec_size\n",
        "    self.b_size = b_size\n",
        "\n",
        "    self.fc1 = nn.Linear(73216,512)\n",
        "    self.batchnorm_fc1 = nn.BatchNorm1d(512)\n",
        "    self.fc2 = nn.Linear(512,512)\n",
        "    self.batchnorm_fc2 = nn.BatchNorm1d(512)\n",
        "    self.fc3 = nn.Linear(512,self.lightvec_size + self.b_size)\n",
        "  \n",
        "    self.relu = nn.ReLU()\n",
        "    \n",
        "\n",
        "  def forward(self,z):\n",
        "\n",
        "\n",
        "    z = torch.flatten(z,start_dim=1,end_dim=-1)\n",
        "    z = self.fc1(z)\n",
        "    z = self.batchnorm_fc1(z)\n",
        "    z = self.relu(z)\n",
        "\n",
        "    z = self.fc2(z)\n",
        "    z = self.batchnorm_fc2(z)\n",
        "    z = self.relu(z)\n",
        "\n",
        "    z = self.fc3(z)\n",
        "\n",
        "    light_vectors = z[:,:self.lightvec_size]\n",
        "    b = z[:,self.lightvec_size:]\n",
        "    return light_vectors,b\n"
      ],
      "execution_count": 343,
      "outputs": []
    },
    {
      "cell_type": "markdown",
      "metadata": {
        "id": "Eaf3ZIzv6WPf"
      },
      "source": [
        "### Train"
      ]
    },
    {
      "cell_type": "code",
      "metadata": {
        "id": "cZwKC1Ms6XAc"
      },
      "source": [
        "## Still need to make modifications\n",
        "\n",
        "def train(model,optimizer,epochs,loss_fn):\n",
        "  best_model = None\n",
        "\n",
        "  for epoch in range(epochs):\n",
        "    print('Epoch {}/{}'.format(epoch, epochs - 1))\n",
        "    print('-' * 10)\n",
        "\n",
        "    for phase in ['train','val']:\n",
        "      train_loss = 0\n",
        "      batch_idx = 0\n",
        "\n",
        "      if phase == 'train':\n",
        "        model.train()\n",
        "      else:\n",
        "        model.eval()\n",
        "            \n",
        "      for X in dataloaders[phase]:\n",
        "        inputs = X.to(device)\n",
        "        batch_idx += 1\n",
        "\n",
        "        optimizer.zero_grad()\n",
        "\n",
        "        with torch.set_grad_enabled(phase == 'train'):\n",
        "          outputs = model(inputs)\n",
        "          loss = loss_fn(outputs,outputs) # Change the loss function \n",
        "\n",
        "          if phase == 'train':\n",
        "            loss.backward()\n",
        "            optimizer.step()\n",
        "\n",
        "          train_loss += loss\n",
        "\n",
        "  return model,train_loss"
      ],
      "execution_count": 344,
      "outputs": []
    },
    {
      "cell_type": "code",
      "metadata": {
        "colab": {
          "base_uri": "https://localhost:8080/"
        },
        "id": "FCOK2eiOAP20",
        "outputId": "0965667f-78a4-4d01-d514-291d3fb31e4b"
      },
      "source": [
        "lightvec_size = 15\n",
        "b_size = 2\n",
        "num_classes = 4\n",
        "\n",
        "model_encode = encoder(in_channels=3).to(device)\n",
        "model_decode_list = []\n",
        "for i in range(num_classes):\n",
        "  model_decode_list.append(decoder().to(device))\n",
        "\n",
        "model_fc = fc(lightvec_size = lightvec_size, b_size = b_size).to(device)\n",
        "\n",
        "for X in dataloaders['train']:\n",
        "  latent,skip_connections = model_encode(X)\n",
        "  feature_maps = []\n",
        "\n",
        "  for c in range(num_classes):\n",
        "    feature_maps.append(model_decode_list[c](latent,skip_connections))\n",
        "  \n",
        "  feature_maps_tensor= torch.cat(feature_maps,dim=1)\n",
        "  fmel = feature_maps_tensor[:,0,:,:]\n",
        "  fblood = feature_maps_tensor[:,1,:,:]\n",
        "  shading = feature_maps_tensor[:,2,:,:]\n",
        "  specmask = feature_maps_tensor[:,3,:,:]\n",
        "  \n",
        "  light_vectors,b = model_fc(latent)\n",
        "\n",
        "  # print(latent.shape)\n",
        "  # print(len(skip_connections))\n",
        "  # print(feature_maps_tensor.shape)\n",
        "  # print(fmel.shape)\n",
        "  # print(fblood.shape)\n",
        "  # print(shading.shape)\n",
        "  # print(specmask.shape)\n",
        "  # print(l.shape)\n",
        "  # print(b.shape)\n",
        "\n",
        "\n",
        "  weightA,weightD,CCT,Fweights,b,fmel,fblood,shading,specmask = scaling(light_vectors,b,fmel,fblood,shading,specmask,b_size)\n",
        "\n",
        "  # print(\"---- After rescaling --- \")\n",
        "\n",
        "  # print(\"weightA\",weightA.shape)\n",
        "  # print(\"weightD\",weightD.shape)\n",
        "  # print(\"Fweights\",Fweights.shape)\n",
        "  # print(\"CCT\",CCT.shape)\n",
        "  # print(\"b\",b.shape)\n",
        "  # print(\"fmel\",fmel.shape)\n",
        "  # print(\"fblood\",fblood.shape)\n",
        "  # print(\"shading\",shading.shape)\n",
        "  # print(\"specmask\",specmask.shape)\n",
        "\n",
        "  e = illuminationModel(weightA,weightD,Fweights,CCT,illumA,illumDmeasured,illF)\n",
        "  # print(e.shape)\n",
        "  PC,mu = CameraSensitivityPCA(rgbCMF)\n",
        "  PC = torch.from_numpy(PC).float()\n",
        "  mu = torch.from_numpy(mu).float()\n",
        "  mu = mu.view(1,mu.shape[0])\n",
        "  mu = torch.cat([mu] * batch_size,dim = 0)\n",
        "  Sr,Sg,Sb = camera_model(mu,PC,b,wavelength)\n",
        "  # print(Sr.shape)\n",
        "  # print(Sg.shape)\n",
        "  # print(Sb.shape)\n",
        "  lightcolor = computelightcolor(e,Sr,Sg,Sb)\n",
        "  # print(lightcolor.shape)\n",
        "  specmask_changed = specmask.view(specmask.shape[0],1,specmask.shape[1],specmask.shape[2])\n",
        "  spec = specularities(specmask_changed,lightcolor)\n",
        "  # print(specmask_changed.shape)\n",
        "  # print(lightcolor.shape)\n",
        "  # print(spec.shape)\n",
        "  R_total = biotoSpecref(fmel,fblood,Newskincolour)\n",
        "  # print(R_total.shape)\n",
        "  rawAppearance,diffuseAlbedo = ImageFormation(R_total,Sr,Sg,Sb,e,spec,shading)\n",
        "  # print(rawAppearance.shape)\n",
        "  # print(diffuseAlbedo.shape)\n",
        "  # print(rawAppearance.shape)\n",
        "  # print(lightcolor.shape)\n",
        "  wbalanced = white_balance(rawAppearance,lightcolor)\n",
        "  # print(wbalanced.shape)\n",
        "  Tmatrix = torch.tensor(np.load('Tmatrix.npy'))\n",
        "  Tmatrix = Tmatrix.view(1,Tmatrix.shape[0],Tmatrix.shape[1],Tmatrix.shape[2])\n",
        "  Tmatrix = torch.cat([Tmatrix] * batch_size,dim = 0)\n",
        "  # print(Tmatrix.shape)\n",
        "  # print(b.shape)\n",
        "  T_RAW2XYZ = T_matrix(Tmatrix,b)\n",
        "  # print(T_RAW2XYZ.shape)\n",
        "  # print(wbalanced.shape)\n",
        "  # print(T_RAW2XYZ.shape)\n",
        "\n",
        "  sRGBim = rawtorgb(wbalanced,T_RAW2XYZ)\n",
        "  # print(sRGBim.shape)\n",
        "  break"
      ],
      "execution_count": 345,
      "outputs": [
        {
          "output_type": "stream",
          "text": [
            "---- After rescaling --- \n",
            "weightA torch.Size([4])\n",
            "weightD torch.Size([4])\n",
            "Fweights torch.Size([4, 12])\n",
            "CCT torch.Size([4])\n",
            "b torch.Size([4, 2])\n",
            "fmel torch.Size([4, 218, 178])\n",
            "fblood torch.Size([4, 218, 178])\n",
            "shading torch.Size([4, 218, 178])\n",
            "specmask torch.Size([4, 218, 178])\n",
            "torch.Size([4, 33, 1, 1])\n",
            "torch.Size([4, 33, 1, 1])\n",
            "torch.Size([4, 33, 1, 1])\n",
            "torch.Size([4, 33, 1, 1])\n",
            "torch.Size([4, 3, 1, 1])\n",
            "torch.Size([4, 1, 218, 178])\n",
            "torch.Size([4, 3, 1, 1])\n",
            "torch.Size([4, 1, 218, 178])\n",
            "torch.Size([4, 33, 218, 178])\n",
            "torch.Size([4, 3, 218, 178])\n",
            "torch.Size([4, 3, 218, 178])\n",
            "torch.Size([4, 3, 218, 178])\n",
            "torch.Size([4, 3, 1, 1])\n",
            "torch.Size([4, 3, 218, 178])\n",
            "torch.Size([4, 128, 128, 9])\n",
            "torch.Size([4, 2])\n"
          ],
          "name": "stdout"
        },
        {
          "output_type": "stream",
          "text": [
            "/usr/local/lib/python3.7/dist-packages/torch/nn/functional.py:3829: UserWarning: Default grid_sample and affine_grid behavior has changed to align_corners=False since 1.3.0. Please specify align_corners=True if the old behavior is desired. See the documentation of grid_sample for details.\n",
            "  \"Default grid_sample and affine_grid behavior has changed \"\n"
          ],
          "name": "stderr"
        },
        {
          "output_type": "stream",
          "text": [
            "torch.Size([4, 9, 1, 1])\n",
            "torch.Size([4, 3, 218, 178])\n",
            "torch.Size([4, 9, 1, 1])\n",
            "torch.Size([4, 218, 178])\n",
            "torch.Size([4, 218, 178])\n",
            "torch.Size([4, 218, 178])\n",
            "torch.Size([4, 1, 218, 178])\n",
            "torch.Size([4, 1, 218, 178])\n",
            "torch.Size([4, 1, 218, 178])\n",
            "torch.Size([4, 218, 178])\n",
            "torch.Size([4, 218, 178])\n",
            "torch.Size([4, 218, 178])\n",
            "torch.Size([4, 3, 218, 178])\n"
          ],
          "name": "stdout"
        }
      ]
    },
    {
      "cell_type": "markdown",
      "metadata": {
        "id": "FdyzgJp1RUJA"
      },
      "source": [
        "### Losses"
      ]
    },
    {
      "cell_type": "code",
      "metadata": {
        "id": "2XdfYsKU1yMM"
      },
      "source": [
        "def loss_appearance(i_rgb,i_obs):\n",
        "  loss = i_rgb - i_obs\n",
        "  loss_val = loss ** 2\n",
        "  return torch.sum(loss_val)\n",
        "\n",
        "def loss_camera(b):\n",
        "  loss_val = b @ b.T\n",
        "  return torch.sum(loss_val)\n",
        "\n",
        "def loss_spec(i_s):\n",
        "  return torch.sum(abs(i_s))\n",
        "\n",
        "def loss_shading(si_d,i_d):\n",
        "  loss = si_d - i_d\n",
        "  return loss.T @ loss\n",
        "\n",
        "\n",
        "def total_loss(X,sRGBimt,b,spec):\n",
        "  w1,w2,w3,w4 = 1e-3,1e-4,1e-5,1e-5\n",
        "  l1 = loss_appearance(sRGBimt,X)\n",
        "  l2 = loss_camera(b)\n",
        "  l3 = loss_spec(spec)\n",
        "  #l4 = loss_shading(si_d,i_d)\n",
        "  return w1 * l1 + w2 * l2 + w3 * l3 #+ w4 * l4"
      ],
      "execution_count": 322,
      "outputs": []
    },
    {
      "cell_type": "code",
      "metadata": {
        "colab": {
          "base_uri": "https://localhost:8080/"
        },
        "id": "9WIkOABCMhsg",
        "outputId": "f88a6b70-9f0f-4c44-c42f-7b33a93dbce4"
      },
      "source": [
        "sRGBimt = sRGBim.permute(0,2,3,1)\n",
        "# print(X.shape)\n",
        "# print(sRGBimt.shape)\n",
        "# print(b.shape)\n",
        "# print(spec.shape)\n",
        "print(total_loss(X,sRGBimt,b,spec))"
      ],
      "execution_count": 326,
      "outputs": [
        {
          "output_type": "stream",
          "text": [
            "tensor(909.6212, grad_fn=<AddBackward0>)\n"
          ],
          "name": "stdout"
        }
      ]
    },
    {
      "cell_type": "code",
      "metadata": {
        "id": "ifUbtUL7MrID"
      },
      "source": [
        ""
      ],
      "execution_count": null,
      "outputs": []
    }
  ]
}